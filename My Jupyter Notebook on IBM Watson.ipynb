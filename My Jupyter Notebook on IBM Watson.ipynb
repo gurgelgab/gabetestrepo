{
 "cells": [
  {
   "cell_type": "markdown",
   "metadata": {
    "collapsed": true
   },
   "source": [
    "# My Jupyter Notebook on IBM Watson Studio"
   ]
  },
  {
   "cell_type": "markdown",
   "metadata": {},
   "source": [
    "## **Gabriel  Gurgel**\n",
    "### Currently self-employed (DoorDash), very interested on a position at Apple: AIML Annotation Analyst (Brazillian Portuguese), because not only i was born in Brazil, i also live in Texas, where the position is."
   ]
  },
  {
   "cell_type": "markdown",
   "metadata": {},
   "source": [
    "*As Miyamoto Musashi once said: \"If you know the way broadly you will see it in all things\", that's my feeling towards Data Science, it is in all things and could be of service in all things and it's fascinating that such field can impact our lives broadly.*"
   ]
  },
  {
   "cell_type": "markdown",
   "metadata": {},
   "source": [
    "### My code in cell 5 is gonna show the only possible numbers for a volume on a TV"
   ]
  },
  {
   "cell_type": "code",
   "execution_count": 54,
   "metadata": {},
   "outputs": [
    {
     "name": "stdout",
     "output_type": "stream",
     "text": [
      "tv_volume:\n",
      " [ 0  1  2  3  4  5  6  7  8  9 10 11 12 13 14 15 16 17 18 19 20 21 22 23\n",
      " 24 25 26 27 28 29]\n",
      "Enter your magical number here: 5\n",
      "For me, the magical number is 5 so the only volume numbers i can use on a TV are [0, 5, 10, 15, 20, 25], which is either too quiet or too loud but i don't care because i have OCD\n"
     ]
    }
   ],
   "source": [
    "import numpy as np\n",
    "\n",
    "listnum = np.arange(0,30)\n",
    "multiples = []\n",
    "\n",
    "print(\"tv_volume:\\n\",listnum)\n",
    "n = int(input(\"Enter your magical number here: \"))\n",
    "for num in listnum:\n",
    "   if num % n == 0:\n",
    "      multiples.append(num)\n",
    "print(\"For me, the magical number is {} so the only volume numbers i can use on a TV are {}, which is either too quiet or too loud but i don't care because i have OCD\".format(n, multiples))"
   ]
  },
  {
   "cell_type": "markdown",
   "metadata": {},
   "source": [
    "1. two\n",
    "3. four\n",
    "5. six\n",
    "\n",
    "* makes\n",
    "* no\n",
    "* sense\n",
    "\n",
    "| makes | no | sense|\n",
    "|:-----:|:--:|:----:|\n",
    "| but   | on | a    |\n",
    "|table              |"
   ]
  }
 ],
 "metadata": {
  "kernelspec": {
   "display_name": "Python 3.10",
   "language": "python",
   "name": "python3"
  },
  "language_info": {
   "codemirror_mode": {
    "name": "ipython",
    "version": 3
   },
   "file_extension": ".py",
   "mimetype": "text/x-python",
   "name": "python",
   "nbconvert_exporter": "python",
   "pygments_lexer": "ipython3",
   "version": "3.10.6"
  }
 },
 "nbformat": 4,
 "nbformat_minor": 1
}
